{
  "nbformat": 4,
  "nbformat_minor": 0,
  "metadata": {
    "colab": {
      "provenance": []
    },
    "kernelspec": {
      "name": "python3",
      "display_name": "Python 3"
    },
    "language_info": {
      "name": "python"
    }
  },
  "cells": [
    {
      "cell_type": "code",
      "execution_count": null,
      "metadata": {
        "id": "lwpZccIoUILO"
      },
      "outputs": [],
      "source": []
    },
    {
      "cell_type": "markdown",
      "source": [
        "##Function   Assingement Theory Questions:"
      ],
      "metadata": {
        "id": "E0v60smcp_kx"
      }
    },
    {
      "cell_type": "markdown",
      "source": [
        "1.What is the difference between a function and a method in Python?\n",
        "\n",
        "  *  In Python, both functions and methods are blocks of reusable code designed to perform specific tasks, but their key distinction lies in their association with objects and classes.\n",
        "\n",
        "    1. Function:\n",
        "        \n",
        "        *  A function is a standalone block of code that can be defined and called independently of any class or object.\n",
        "\n",
        "        *  Functions are generally used for general-purpose tasks or operations that do not inherently belong to a specific object's behavior.\n",
        "\n",
        "        *  They receive data as arguments and can return a value or perform actions, but they do not implicitly operate on or modify the state of an object.\n",
        "\n",
        "   2. Method:\n",
        "\n",
        "       *  A method is a function that is defined within a class and is associated with objects of that class.\n",
        "\n",
        "       *  Methods are called on an object and can access and manipulate the object's data and other methods within the same class.\n",
        "\n",
        "       *  The first argument of a method is conventionally self, which refers to the instance of the class on which the method is called. This self argument allows the method to interact with the object's state.\n",
        "\n",
        "       *  Methods are fundamental to object-oriented programming (OOP), enabling objects to exhibit behaviors and interact with their own encapsulated data.\n",
        "\n",
        "  The primary difference is that methods are functions that belong to an object or class, while functions are independent entities that can be called without being tied to a specific object instance. Methods are inherently designed to operate on the data and state of the object they belong to, whereas functions typically operate on the data passed to them as arguments.\n",
        "\n",
        "\n",
        "\n",
        "  2. Explain the concept of function arguments and parameters in Python.\n",
        "\n",
        "   *  In Python, the terms \"arguments\" and \"parameters\" are distinct concepts related to functions:\n",
        "\n",
        "      1. Parameters:\n",
        "           \n",
        "           These are the variables declared within the parentheses of a function's definition. They act as placeholders for the values that the function is expected to receive when it is called. Parameters define the type and number of inputs a function can accept, essentially outlining its signature.\n",
        "\n",
        "       2. Arguments:\n",
        "\n",
        "           These are the actual values passed to a function when it is called. These values are assigned to the corresponding parameters within the function's scope, allowing the function to perform operations with specific data.\n",
        "\n",
        "  3. What are the different ways to define and call a function in Python?\n",
        "\n",
        "    *  In Python, you can define functions in several ways, each with its own benefits and suitable use cases:\n",
        "\n",
        "    Different ways to define functions in Python :\n",
        "\n",
        "      1.Standard Functions (using def):\n",
        "\n",
        "       This is the most common way to define a function in Python. It's suitable for complex logic, multiple lines of code, and functions that need documentation (docstrings) and reusability.\n",
        "\n",
        "      2.  Lambda Functions (Anonymous Functions):\n",
        "\n",
        "         These are small, single-expression functions that don't require a formal def block. They are ideal for quick, one-time tasks, especially as arguments to higher-order functions like map() or filter().\n",
        "\n",
        "      3.  Methods within Classes:\n",
        "\n",
        "        Functions defined inside a class are called methods. They are associated with objects (instances of the class) and operate on the object's data (attributes).\n",
        "\n",
        "   Different ways to call functions in Python:\n",
        "\n",
        "   Once a function is defined, you can call it to execute the code block within its definition. Here are some common ways to call functions:\n",
        "\n",
        "\n",
        "      1.  Direct Function Call:\n",
        "\n",
        "      This is the simplest and most frequent method. You use the function's name followed by parentheses () and any required arguments.\n",
        "\n",
        "      2. Positional Arguments:\n",
        "\n",
        "      Arguments are passed based on their order in the function call, matching the order of parameters in the function definition.\n",
        "\n",
        "      3. Keyword Arguments:\n",
        "\n",
        "     Arguments are explicitly named in the function call, which allows for greater flexibility in argument order and improved readability.\n",
        "\n",
        "      4. Arbitrary Positional Arguments:\n",
        "\n",
        "      Use *args to accept an unknown number of positional arguments. These are collected into a tuple within the function.\n",
        "\n",
        "      5.  Arbitrary Keyword Arguments:\n",
        "\n",
        "      Use **kwargs to accept an unknown number of keyword arguments. These are collected into a dictionary within the function.\n",
        "\n",
        "      6. Passing Functions as Arguments:\n",
        "\n",
        "      In Python, functions are first-class objects, meaning they can be passed as arguments to other functions (higher-order functions like map(), filter(), reduce()).\n",
        "\n",
        "       7.  Calling Methods on Class Instances:\n",
        "\n",
        "       As mentioned earlier, methods are called on instances of a class using the dot notation (object.method_name()).\n",
        "\n",
        "\n",
        " These various methods offer flexibility and power when defining and calling functions in Python, allowing you to choose the most appropriate approach for different programming scenarios.\n",
        "\n",
        "   \n",
        "   4.What is the purpose of the `return` statement in a Python function?\n",
        "\n",
        "     *  The return statement in a Python function serves two primary purposes:\n",
        "\n",
        "     1. Exiting the function:\n",
        "\n",
        "         When a return statement is encountered during the execution of a function, the function's execution immediately terminates. Control is then passed back to the point in the code where the function was called.\n",
        "\n",
        "     2. Returning a value:\n",
        "\n",
        "          The return statement allows a function to send a value or object back to the caller. This returned value can then be used in various ways by the calling code, such as being assigned to a variable, used in an expression, or passed as an argument to another function. If no value is specified after return, or if no return statement is present in the function, the function implicitly returns None.\n",
        "\n",
        " In essence, the return statement is how a function communicates its result or output back to the rest of the program, enabling modularity and data flow within the application.              \n",
        "\n",
        "5.  What are iterators in Python and how do they differ from iterables?\n",
        "\n",
        "     *  Iterators:\n",
        "\n",
        "         An iterator is an object that facilitates iteration over an iterable object. It keeps track of the current position in the sequence and provides the next item when requested. The iterator protocol in Python requires an iterator to implement the following two methods:\n",
        "\n",
        "         1.__iter__(): This method returns the iterator object itself.\n",
        "\n",
        "         2.__next__(): This method returns the next item from the sequence. It raises a StopIteration exception when there are no more items available.\n",
        "\n",
        "      *  Iterables:\n",
        "\n",
        "         An iterable is an object that can be looped over, or \"iterated over\" in a for loop. Examples of built-in iterables include lists, tuples, dictionaries, and strings. Essentially, if you can use an object in a for loop, it's an iterable. To be iterable, an object's class needs to define either the __iter__ method (which returns an iterator) or the __getitem__ method (allowing access by index).\n",
        "            \n",
        "\n",
        "            Key differences between iterables and iterators:\n",
        "\n",
        "         1.  Ability to iterate:\n",
        "\n",
        "              An iterable can be iterated over, but it doesn't necessarily have the mechanisms to manage the iteration process itself. An iterator is designed to handle the iteration, keeping track of the current position and providing the next element.\n",
        "\n",
        "         2.  Relationship:\n",
        "\n",
        "               Every iterator is also an iterable, meaning you can call iter() on an iterator and it will return itself. However, not every iterable is an iterator. For instance, a list is an iterable but not an iterator, since it doesn't have the __next__() method implemented to manage the iteration state.\n",
        "\n",
        "         3.   Creation:\n",
        "\n",
        "                 An iterator is created from an iterable by calling the built-in function iter() on it.\n",
        "\n",
        "         4.  Methods:\n",
        "\n",
        "               Iterables typically implement __iter__() (or potentially __getitem__() for older Python versions or specific iterable types like sequences). Iterators, on the other hand, implement both __iter__() and __next__().  \n",
        "\n",
        "\n",
        " 6.   Explain the concept of generators in Python and how they are defined.\n",
        "\n",
        "    *  In Python, a generator is a special type of function or expression that creates an iterator, allowing for the generation of a sequence of values lazily, one at a time, rather than storing all values in memory simultaneously. This makes generators highly memory-efficient, especially when dealing with large datasets or potentially infinite sequences.\n",
        "\n",
        "    Generators are primarily defined using the yield keyword within a function. When a function contains yield, it automatically becomes a generator function.\n",
        "\n",
        "      *  Generator Functions:\n",
        "\n",
        "           1.A generator function is declared using the def keyword, similar to a regular function.\n",
        "\n",
        "           2.Instead of using return to send a value and terminate the function, generator functions use yield.\n",
        "\n",
        "           3.When yield is encountered, the function pauses its execution, returns the yielded value, and saves its internal state (including local variables and the point of execution).\n",
        "\n",
        "           4.When the generator is subsequently iterated upon (e.g., in a for loop or by calling next()), the function resumes execution from where it left off, continuing until the next yield statement or the end of the function.\n",
        "\n",
        "\n",
        "      *  Generator Expressions:\n",
        "\n",
        "         1. Similar to list comprehensions, generator expressions provide a concise way to create generators.\n",
        "          \n",
        "         2.They are enclosed in parentheses () and follow a similar syntax to list comprehensions but use yield implicitly for lazy evaluation.\n",
        "\n",
        "\n",
        "                                \n",
        "\n",
        "\n",
        "           \n",
        "\n",
        "      \n",
        "  \n",
        "\n",
        "\n",
        "\n",
        "                             \n",
        "\n",
        "\n",
        "                      \n",
        "         \n"
      ],
      "metadata": {
        "id": "qV-72hrzUWbs"
      }
    },
    {
      "cell_type": "markdown",
      "source": [
        "7.  What are the advantages of using generators over regular functions?\n",
        "\n",
        "   *  Generators offer several advantages over regular functions, particularly when dealing with sequences of data:\n",
        "\n",
        "        1. Memory Efficiency:\n",
        "\n",
        "            Generators produce values one at a time using the yield keyword, rather than computing and storing an entire list or sequence in memory. This makes them highly memory-efficient, especially when working with large datasets or potentially infinite sequences, as only the current value is held in memory.\n",
        "\n",
        "        2. Lazy Evaluation:\n",
        "\n",
        "             Values are computed and yielded only when they are explicitly requested, typically through iteration. This \"lazy\" evaluation can significantly improve performance, especially when not all elements of a sequence are needed or when processing large streams of data where upfront computation of all elements would be wasteful.\n",
        "\n",
        "       3. Handling Infinite Sequences:\n",
        "        \n",
        "            Generators can represent infinite sequences without running into memory limitations, as they generate values on demand. This is useful for scenarios like generating an endless stream of numbers or a continuous data feed.\n",
        "             \n",
        "      4.  Pipelining and Data Processing:\n",
        "\n",
        "           Generators can be chained together to form efficient data processing pipelines. Each generator in the chain can perform a specific transformation or filtering operation on the data as it flows through, minimizing intermediate storage and improving overall efficiency.\n",
        "\n",
        "      5. Simpler Code for Iteration:\n",
        "\n",
        "          Generators can often simplify the code required to implement complex iterative logic, making it more readable and maintainable compared to managing state manually within a regular function.\n",
        "\n",
        "\n",
        "8. What is a lambda function in Python and when is it typically used?\n",
        "\n",
        "    *  A lambda function in Python, also known as an anonymous function, is a small, unnamed function defined using the lambda keyword. Unlike regular functions defined with the def keyword, lambda functions are restricted to a single expression. The result of this expression is automatically returned, removing the need for an explicit return statement.\n",
        "\n",
        "      1. lambda: The keyword indicating an anonymous function definition.\n",
        "\n",
        "      2. arguments: One or more input parameters, separated by commas.\n",
        "\n",
        "      3.expression: A single, evaluated expression whose result the lambda function will return.\n",
        "\n",
        "\n",
        "   *  Lambda functions are particularly useful in situations demanding brief, one-time, and simple functions. They are frequently used in the following scenarios:\n",
        "\n",
        "\n",
        "     1. As arguments to higher-order functions:\n",
        "\n",
        "         Lambda functions are commonly passed as arguments to functions like map(), filter(), and sorted() which operate on iterables.\n",
        "\n",
        "     2. Custom Sorting:\n",
        "\n",
        "          They provide a concise way to define custom sorting logic for lists or dictionaries when used with the key argument in sorted() or .sort()\n",
        "\n",
        "     3. Data Transformations (e.g., Pandas DataFrames):\n",
        "\n",
        "        Lambda functions can be used with methods like .apply() on Pandas Series or DataFrames for column manipulation.\n",
        "\n",
        "     4. Short, Concise Operations:\n",
        "\n",
        "         For single-line operations that don't warrant a full function definition, lambdas offer a more compact approach.\n",
        "\n",
        " 9. Explain the purpose and usage of the `map()` function in Python.\n",
        "\n",
        "      *  The map() function in Python is a built-in higher-order function that applies a given function to each item of an iterable (or multiple iterables) and returns a map object (an iterator) containing the results. Its primary purpose is to efficiently perform transformations or operations on collections of data without the need for explicit for loops, promoting a more concise and functional programming style.\n",
        "\n",
        "        * Usage:\n",
        "            \n",
        "            The syntax for map() is:\n",
        "              \n",
        "              1. function:\n",
        "                 \n",
        "                   This is the function that will be applied to each item of the iterable(s). It can be a built-in function, a user-defined function, or a lambda function.\n",
        "              2.iterable:\n",
        "\n",
        "                 This is one or more iterable objects (like lists, tuples, sets, strings, etc.) whose elements will be passed as arguments to the function. If multiple iterables are provided, the function must accept a corresponding number of arguments, and map() processes elements in parallel until the shortest iterable is exhausted.\n",
        "\n",
        "        *  Key Characteristics:\n",
        "\n",
        "           1. Returns an iterator:\n",
        "\n",
        "                map() does not immediately perform the operations and return a list. Instead, it returns a map object, which is an iterator. This means the operations are performed lazily, only when the elements are accessed (e.g., by converting to a list or iterating over it).\n",
        "                 \n",
        "            2. Efficiency:\n",
        "\n",
        "                For large datasets, map() can be more memory-efficient than creating new lists explicitly within a loop, as it generates elements on demand.\n",
        "\n",
        "            3. Readability:\n",
        "\n",
        "               It often leads to more concise and readable code, especially when combined with lambda functions for simple transformations.\n",
        "\n",
        "\n",
        " 10.  What is the difference between `map()`, `reduce()`, and `filter()` functions in Python?\n",
        "\n",
        "      *  The map(), filter(), and reduce() functions in Python are built-in tools for functional programming, each serving a distinct purpose in data transformation and manipulation.\n",
        "\n",
        "        1. map(function, iterable):\n",
        "\n",
        "            This function applies a given function to each item in an iterable (like a list, tuple, or set) and returns an iterator that yields the results. It is used for transformation, creating a new sequence where each element is the result of applying the function to the corresponding element of the original iterable.\n",
        "\n",
        "        2. filter(function, iterable):\n",
        "        \n",
        "             This function constructs an iterator from elements of an iterable for which the function returns True. It is used for selection or filtering, creating a new sequence containing only the elements that satisfy a specific condition.\n",
        "\n",
        "         3.reduce(function, iterable[, initializer]):\n",
        "        \n",
        "            This function, found in the functools module, applies a function of two arguments cumulatively to the items of an iterable, from left to right, so as to reduce the iterable to a single value. It is used for aggregation or reduction, combining elements into a single result.  \n",
        "\n",
        " 11. Using pen & Paper write the internal mechanism for sum operation using  reduce function on this given\n",
        "list:[47,11,42,13];\n",
        "\n",
        "\n",
        " *  The reduce function, when used for a sum operation, iteratively applies a given function (in this case, addition) to the elements of a list, accumulating a single result.\n",
        "  \n",
        "   Here is the internal mechanism for the sum operation using reduce on the list [47, 11, 42, 13]:\n",
        "\n",
        "   1. Initialization:\n",
        "\n",
        "       The reduce function takes the first two elements of the list and applies the sum operation.\n",
        "\n",
        "       47 + 11 = 58\n",
        "\n",
        "       The accumulated value is now 58.\n",
        "\n",
        "    2. First Iteration:\n",
        "\n",
        "        The accumulated value (58) is then combined with the next element in the list (42) using the sum operation.\n",
        "\n",
        "        58 + 42 = 100\n",
        "\n",
        "        The accumulated value is now 100.\n",
        "\n",
        "    3. Second Iteration:\n",
        "\n",
        "       The current accumulated value (100) is then combined with the next element in the list (13) using the sum operation.\n",
        "\n",
        "       100 + 13 = 113\n",
        "\n",
        "       The accumulated value is now 113.\n",
        "\n",
        "  Since there are no more elements in the list, the final accumulated value (113) is returned as the result of the reduce operation.\n",
        "\n",
        "  \n",
        "              \n",
        "        \n",
        "                 \n",
        "\n",
        "                         \n",
        "\n",
        "\n",
        "\n",
        "\n",
        "\n",
        "\n",
        "\n",
        "                 \n",
        "\n"
      ],
      "metadata": {
        "id": "-6cGA7wsqQ9U"
      }
    },
    {
      "cell_type": "markdown",
      "source": [],
      "metadata": {
        "id": "lSJpQYcegrEs"
      }
    },
    {
      "cell_type": "markdown",
      "source": [
        "#Practical Questions:"
      ],
      "metadata": {
        "id": "ftz3eIue-Gsl"
      }
    },
    {
      "cell_type": "markdown",
      "source": [
        "1.  Write a Python function that takes a list of numbers as input and returns the sum of all even numbers in\n",
        "the list.\n",
        "\n",
        "  # code\n",
        "\n",
        "  "
      ],
      "metadata": {
        "id": "MXVqFfY3-Vfc"
      }
    },
    {
      "cell_type": "code",
      "metadata": {
        "id": "88c608b5"
      },
      "source": [
        "def sum_of_even_numbers(\"1,2,3,4,5,6,7,8,9,10\")):\n",
        "  even_sum = 0\n",
        "  for number in numbers:\n",
        "    if number % 2 == 0:\n",
        "      even_sum += number\n",
        "  return even_sum\n",
        "\n",
        "# Example usage:\n",
        "my_list = [1, 2, 3, 4, 5, 6, 7, 8, 9, 10]\n",
        "result = sum_of_even_numbers(my_list)\n",
        "print(f\"The sum of even numbers in the list is: {result}\")"
      ],
      "execution_count": null,
      "outputs": []
    },
    {
      "cell_type": "markdown",
      "source": [
        "2. . Create a Python function that accepts a string and returns the reverse of that string.\n",
        "\n",
        "  # code\n",
        "\n"
      ],
      "metadata": {
        "id": "m2BGMwcp-1-u"
      }
    },
    {
      "cell_type": "code",
      "metadata": {
        "id": "4b5325f3"
      },
      "source": [
        "def reverse_string(\"hello world\"):\n",
        "\n",
        "    return input_string[::-1]\n",
        "\n",
        "# Example usage:\n",
        "my_string = \"Hello, World!\"\n",
        "reversed_string = reverse_string(my_string)\n",
        "print(f\"The original string is: {my_string}\")\n",
        "print(f\"The reversed string is: {reversed_string}\")"
      ],
      "execution_count": null,
      "outputs": []
    },
    {
      "cell_type": "markdown",
      "source": [
        "3. Implement a Python function that takes a list of integers and returns a new list containing the squares of\n",
        "each number.\n",
        "\n",
        "  # code\n"
      ],
      "metadata": {
        "id": "su02dsnw_MNf"
      }
    },
    {
      "cell_type": "code",
      "metadata": {
        "id": "4fbd6a2e"
      },
      "source": [
        "def square_numbers(\"1,2,3,4,5,6,7,8,9,10\")\n",
        "  squared_numbers = [number ** 2 for number in numbers]\n",
        "  return squared_numbers\n",
        "\n",
        "# Example usage:\n",
        "my_list = [1, 2, 3, 4, 5]\n",
        "result = square_numbers(my_list)\n",
        "print(f\"The original list is: {my_list}\")\n",
        "print(f\"The list with squared numbers is: {result}\")"
      ],
      "execution_count": null,
      "outputs": []
    },
    {
      "cell_type": "markdown",
      "source": [
        "4. Write a Python function that checks if a given number is prime or not from 1 to 200 .\n",
        "\n",
        "  "
      ],
      "metadata": {
        "id": "jrQbzyDq_lNW"
      }
    },
    {
      "cell_type": "markdown",
      "source": [
        "## code\n"
      ],
      "metadata": {
        "id": "R7182EwjBuO_"
      }
    },
    {
      "cell_type": "markdown",
      "source": [],
      "metadata": {
        "id": "IKV8OGFr_gLQ"
      }
    },
    {
      "cell_type": "code",
      "metadata": {
        "id": "fa49a1bd"
      },
      "source": [
        "def is_prime(num):\n",
        "  if num <= 1 or num > 200:\n",
        "    return False\n",
        "  if num <= 3:\n",
        "    return True\n",
        "  if num % 2 == 0 or num % 3 == 0:\n",
        "    return False\n",
        "\n",
        "  i = 5\n",
        "  while i * i <= num:\n",
        "    if num % i == 0 or num % (i + 2) == 0:\n",
        "      return False\n",
        "    i += 6\n",
        "  return True\n",
        "\n",
        "# Example usage:\n",
        "number_to_check = 17\n",
        "if is_prime(number_to_check):\n",
        "  print(f\"{number_to_check} is a prime number.\")\n",
        "else:\n",
        "  print(f\"{number_to_check} is not a prime number.\")\n",
        "\n",
        "number_to_check = 150\n",
        "if is_prime(number_to_check):\n",
        "  print(f\"{number_to_check} is a prime number.\")\n",
        "else:\n",
        "  print(f\"{number_to_check} is not a prime number.\")\n",
        "\n",
        "number_to_check = 250 # Example outside the range\n",
        "if is_prime(number_to_check):\n",
        "  print(f\"{number_to_check} is a prime number.\")\n",
        "else:\n",
        "  print(f\"{number_to_check} is not a prime number.\")"
      ],
      "execution_count": null,
      "outputs": []
    },
    {
      "cell_type": "markdown",
      "source": [
        "5. Create an iterator class in Python that generates the Fibonacci sequence up to a specified number of\n",
        "terms.\n",
        "\n",
        "  ## code"
      ],
      "metadata": {
        "id": "i2cvRhGzCWF2"
      }
    },
    {
      "cell_type": "code",
      "source": [],
      "metadata": {
        "id": "SxYGYrFHCnDZ"
      },
      "execution_count": null,
      "outputs": []
    },
    {
      "cell_type": "markdown",
      "source": [],
      "metadata": {
        "id": "qqcoTAxSB-s9"
      }
    },
    {
      "cell_type": "code",
      "metadata": {
        "id": "59a9d824"
      },
      "source": [
        "class FibonacciIterator:\n",
        "  def __init__(self, num_terms):\n",
        "    self.num_terms = num_terms\n",
        "    self.current_term = 0\n",
        "    self.a = 0\n",
        "    self.b = 1\n",
        "\n",
        "  def __iter__(self):\n",
        "    return self\n",
        "\n",
        "  def __next__(self):\n",
        "    if self.current_term < self.num_terms:\n",
        "      if self.current_term == 0:\n",
        "        self.current_term += 1\n",
        "        return self.a\n",
        "      elif self.current_term == 1:\n",
        "        self.current_term += 1\n",
        "        return self.b\n",
        "      else:\n",
        "        next_fib = self.a + self.b\n",
        "        self.a = self.b\n",
        "        self.b = next_fib\n",
        "        self.current_term += 1\n",
        "        return next_fib\n",
        "    else:\n",
        "      raise StopIteration\n",
        "\n",
        "# Example usage:\n",
        "fib_sequence = FibonacciIterator(10)\n",
        "\n",
        "print(\"Fibonacci sequence up to 10 terms:\")\n",
        "for term in fib_sequence:\n",
        "  print(term)\n",
        "\n",
        "# Another example with a different number of terms\n",
        "print(\"\\nFibonacci sequence up to 5 terms:\")\n",
        "for term in FibonacciIterator(5):\n",
        "    print(term)"
      ],
      "execution_count": null,
      "outputs": []
    },
    {
      "cell_type": "markdown",
      "source": [
        "6. Write a generator function in Python that yields the powers of 2 up to a given exponent.\n",
        "\n",
        "## code"
      ],
      "metadata": {
        "id": "VH1qsEE4C41Q"
      }
    },
    {
      "cell_type": "markdown",
      "source": [],
      "metadata": {
        "id": "PBYSiBqrDH1z"
      }
    },
    {
      "cell_type": "code",
      "metadata": {
        "id": "d0d21e65"
      },
      "source": [
        "def powers_of_two(max_exponent)\n",
        "  for i in range(max_exponent + 1):\n",
        "    yield 2 ** i\n",
        "\n",
        "# Example usage:\n",
        "powers = powers_of_two(5)\n",
        "\n",
        "print(\"Powers of 2 up to exponent 5:\")\n",
        "for power in powers:\n",
        "  print(power)\n",
        "\n",
        "# Another example\n",
        "print(\"\\nPowers of 2 up to exponent 3:\")\n",
        "for power in powers_of_two(3):\n",
        "  print(power)"
      ],
      "execution_count": null,
      "outputs": []
    },
    {
      "cell_type": "markdown",
      "source": [
        "7.  Implement a generator function that reads a file line by line and yields each line as a string.\n",
        "\n",
        "  ## code\n",
        "\n"
      ],
      "metadata": {
        "id": "2KGOA5QMDpu3"
      }
    },
    {
      "cell_type": "code",
      "metadata": {
        "id": "64980b99"
      },
      "source": [
        "import os\n",
        "\n",
        "def read_file_line_by_line(filepath):\n",
        "    with open(filepath, 'r') as f:\n",
        "      for line in f:\n",
        "        yield line.strip() # Yield each line, removing leading/trailing whitespace\n",
        "  except FileNotFoundError:\n",
        "    print(f\"Error: File not found at {filepath}\")\n",
        "  except Exception as e:\n",
        "    print(f\"An error occurred: {e}\")\n",
        "\n",
        "# Example usage:\n",
        "# First, let's create a dummy file for demonstration,\n",
        "\n",
        "file_path = \"my_example_file.txt\"\n",
        "\n",
        "with open(file_path, \"w\") as f:\n",
        "  f.write(file_content)\n",
        "\n",
        "print(f\"Reading file: {file_path}\")\n",
        "for line in read_file_line_by_line(file_path):\n",
        "  print(line)\n",
        "\n",
        "# Clean up the dummy file\n",
        "os.remove(file_path)"
      ],
      "execution_count": null,
      "outputs": []
    },
    {
      "cell_type": "markdown",
      "source": [
        "8. Use a lambda function in Python to sort a list of tuples based on the second element of each tuple.\n",
        "\n",
        " ## code"
      ],
      "metadata": {
        "id": "cwlUTckREz-a"
      }
    },
    {
      "cell_type": "code",
      "source": [],
      "metadata": {
        "id": "9a_Sz5A8FAY0"
      },
      "execution_count": null,
      "outputs": []
    },
    {
      "cell_type": "code",
      "metadata": {
        "id": "54540c21"
      },
      "source": [
        "# List of tuples\n",
        "list_of_tuples = [(1, 'c'), (2, 'a'), (3, 'b')]\n",
        "\n",
        "# Sort the list of tuples based on the second element using a lambda function\n",
        "sorted_list = sorted(list_of_tuples, key=lambda item: item[1])\n",
        "\n",
        "print(\"Original list of tuples:\", list_of_tuples)\n",
        "print(\"Sorted list of tuples:\", sorted_list)\n",
        "\n",
        "# Another example\n",
        "list_of_tuples_2 = [('apple', 3), ('banana', 1), ('cherry', 2)]\n",
        "sorted_list_2 = sorted(list_of_tuples_2, key=lambda item: item[1])\n",
        "\n",
        "print(\"\\nOriginal list of tuples:\", list_of_tuples_2)\n",
        "print(\"Sorted list of tuples:\", sorted_list_2)"
      ],
      "execution_count": null,
      "outputs": []
    },
    {
      "cell_type": "markdown",
      "source": [
        "9.  Write a Python program that uses `map()` to convert a list of temperatures from Celsius to Fahrenheit.\n",
        "  \n",
        "  ## code\n",
        "\n",
        "  "
      ],
      "metadata": {
        "id": "DqfRXR1tFL9X"
      }
    },
    {
      "cell_type": "code",
      "source": [],
      "metadata": {
        "id": "uujRaBVKFStv"
      },
      "execution_count": null,
      "outputs": []
    },
    {
      "cell_type": "code",
      "metadata": {
        "id": "7ff3a969"
      },
      "source": [
        "def celsius_to_fahrenheit(\"calsius\"):\n",
        "  return (celsius * 9/5) + 32\n",
        "\n",
        "# List of temperatures in Celsius\n",
        "celsius_temperatures = [0, 10, 25, 37, 100]\n",
        "\n",
        "# Use map() to convert Celsius to Fahrenheit\n",
        "fahrenheit_temperatures = list(map(celsius_to_fahrenheit, celsius_temperatures))\n",
        "\n",
        "print(\"Celsius temperatures:\", celsius_temperatures)\n",
        "print(\"Fahrenheit temperatures:\", fahrenheit_temperatures)\n",
        "\n",
        "# Example with lambda function\n",
        "fahrenheit_temperatures_lambda = list(map(lambda c: (c * 9/5) + 32, celsius_temperatures))\n",
        "print(\"\\nFahrenheit temperatures (using lambda):\", fahrenheit_temperatures_lambda)"
      ],
      "execution_count": null,
      "outputs": []
    },
    {
      "cell_type": "markdown",
      "source": [
        "10. Create a Python program that uses `filter()` to remove all the vowels from a given string.\n",
        "\n",
        "  ## code\n",
        "  "
      ],
      "metadata": {
        "id": "hIHMqSq_FxSM"
      }
    },
    {
      "cell_type": "code",
      "source": [],
      "metadata": {
        "id": "O5vcsap4F3db"
      },
      "execution_count": null,
      "outputs": []
    },
    {
      "cell_type": "code",
      "metadata": {
        "id": "b2ef633d"
      },
      "source": [
        "def is_not_vowel(char):\n",
        "  vowels = \"aeiouAEIOU\"\n",
        "  return char not in vowels\n",
        "\n",
        "# Input string\n",
        "input_string = \"Hello, World!\"\n",
        "\n",
        "# Use filter() to remove vowels from the string\n",
        "filtered_chars = filter(is_not_vowel, input_string)\n",
        "\n",
        "# Join the filtered characters back into a string\n",
        "result_string = \"\".join(filtered_chars)\n",
        "\n",
        "print(\"Original string:\", input_string)\n",
        "print(\"String after removing vowels:\", result_string)\n",
        "\n",
        "# Example with lambda function\n",
        "result_string_lambda = \"\".join(filter(lambda char: char not in \"aeiouAEIOU\", input_string))\n",
        "print(\"String after removing vowels (using lambda):\", result_string_lambda)"
      ],
      "execution_count": null,
      "outputs": []
    },
    {
      "cell_type": "markdown",
      "source": [],
      "metadata": {
        "id": "PCNlrs2xF_Nv"
      }
    }
  ]
}